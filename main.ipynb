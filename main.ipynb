{
  "cells": [
    {
      "cell_type": "code",
      "source": [
        "# Import necessary libraries\n",
        "import pandas as pd\n",
        "from sklearn.model_selection import train_test_split\n",
        "from sklearn.linear_model import LinearRegression\n",
        "from sklearn.metrics import mean_squared_error, r2_score\n",
        "\n",
        "# Load the dataset\n",
        "data = pd.read_csv('Salary_dataset.csv')\n",
        "\n",
        "# Clean the dataset by removing unnecessary columns\n",
        "data_clean = data.drop(columns=['Unnamed: 0'])\n",
        "\n",
        "# Define the features (YearsExperience) and the target variable (Salary)\n",
        "X = data_clean[['YearsExperience']]\n",
        "y = data_clean['Salary']\n",
        "\n",
        "# Split the data into training and test sets (80% train, 20% test)\n",
        "X_train, X_test, y_train, y_test = train_test_split(X, y, test_size=0.2, random_state=42)\n",
        "\n",
        "# Initialize the Linear Regression model\n",
        "model = LinearRegression()\n",
        "\n",
        "# Train the model using the training data\n",
        "model.fit(X_train, y_train)\n",
        "\n",
        "# Make predictions using the test data\n",
        "y_pred = model.predict(X_test)\n",
        "\n",
        "# Evaluate the model performance\n",
        "mse = mean_squared_error(y_test, y_pred)\n",
        "r2 = r2_score(y_test, y_pred)\n",
        "\n",
        "# Print the results\n",
        "print(f'Mean Squared Error (MSE): {mse}')\n",
        "print(f'R-squared (R²) score: {r2}')\n",
        "\n",
        "# Predict salary for a specific input (example: 5 years of experience)\n",
        "years_experience = 5\n",
        "predicted_salary = model.predict([[years_experience]])[0]\n",
        "print(f'Predicted Salary for {years_experience} years of experience: ${predicted_salary:,.2f}')\n"
      ],
      "metadata": {
        "colab": {
          "base_uri": "https://localhost:8080/"
        },
        "id": "140vyIQy80e3",
        "outputId": "046e6846-1db1-4a39-f8e5-c4a9e53ce527"
      },
      "execution_count": 2,
      "outputs": [
        {
          "output_type": "stream",
          "name": "stdout",
          "text": [
            "Mean Squared Error (MSE): 49830096.855908394\n",
            "R-squared (R²) score: 0.9024461774180497\n",
            "Predicted Salary for 5 years of experience: $71,499.28\n"
          ]
        },
        {
          "output_type": "stream",
          "name": "stderr",
          "text": [
            "/usr/local/lib/python3.10/dist-packages/sklearn/base.py:465: UserWarning: X does not have valid feature names, but LinearRegression was fitted with feature names\n",
            "  warnings.warn(\n"
          ]
        }
      ]
    },
    {
      "cell_type": "code",
      "source": [
        "# Import necessary libraries\n",
        "import pandas as pd\n",
        "from sklearn.model_selection import train_test_split\n",
        "from sklearn.linear_model import LinearRegression\n",
        "from sklearn.metrics import mean_squared_error, r2_score\n",
        "import joblib\n",
        "\n",
        "# Load the dataset\n",
        "data = pd.read_csv('Salary_dataset.csv')\n",
        "\n",
        "# Clean the dataset by removing unnecessary columns\n",
        "data_clean = data.drop(columns=['Unnamed: 0'])\n",
        "\n",
        "# Define the features (YearsExperience) and the target variable (Salary)\n",
        "X = data_clean[['YearsExperience']]\n",
        "y = data_clean['Salary']\n",
        "\n",
        "# Split the data into training and test sets (80% train, 20% test)\n",
        "X_train, X_test, y_train, y_test = train_test_split(X, y, test_size=0.2, random_state=42)\n",
        "\n",
        "# Initialize the Linear Regression model\n",
        "model = LinearRegression()\n",
        "\n",
        "# Train the model using the training data\n",
        "model.fit(X_train, y_train)\n",
        "\n",
        "# Save the trained model to a file\n",
        "model_filename = 'salary_prediction_model.pkl'\n",
        "joblib.dump(model, model_filename)\n",
        "print(f\"Model saved to {model_filename}\")\n",
        "\n",
        "# Load the model from the file (to test saving/loading)\n",
        "loaded_model = joblib.load(model_filename)\n",
        "\n",
        "# Predict salary for a specific input (example: 5 years of experience) using the loaded model\n",
        "years_experience = 5\n",
        "predicted_salary = loaded_model.predict([[years_experience]])[0]\n",
        "print(f'Predicted Salary for {years_experience} years of experience: ${predicted_salary:,.2f}')\n"
      ],
      "metadata": {
        "colab": {
          "base_uri": "https://localhost:8080/"
        },
        "id": "oWbOCAk-8_Nh",
        "outputId": "15e9f5d7-5207-4bfc-eed6-36f1ecc36fbf"
      },
      "execution_count": 3,
      "outputs": [
        {
          "output_type": "stream",
          "name": "stdout",
          "text": [
            "Model saved to salary_prediction_model.pkl\n",
            "Predicted Salary for 5 years of experience: $71,499.28\n"
          ]
        },
        {
          "output_type": "stream",
          "name": "stderr",
          "text": [
            "/usr/local/lib/python3.10/dist-packages/sklearn/base.py:465: UserWarning: X does not have valid feature names, but LinearRegression was fitted with feature names\n",
            "  warnings.warn(\n"
          ]
        }
      ]
    },
    {
      "cell_type": "code",
      "source": [],
      "metadata": {
        "id": "uy1IIhDS9n-f"
      },
      "execution_count": null,
      "outputs": []
    }
  ],
  "metadata": {
    "colab": {
      "name": "Welcome To Colab",
      "provenance": []
    },
    "kernelspec": {
      "display_name": "Python 3",
      "name": "python3"
    }
  },
  "nbformat": 4,
  "nbformat_minor": 0
}